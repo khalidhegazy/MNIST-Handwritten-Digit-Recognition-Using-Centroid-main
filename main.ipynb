{
  "nbformat": 4,
  "nbformat_minor": 0,
  "metadata": {
    "colab": {
      "name": "Untitled0.ipynb",
      "provenance": []
    },
    "kernelspec": {
      "name": "python3",
      "display_name": "Python 3"
    },
    "language_info": {
      "name": "python"
    }
  },
  "cells": [
    {
      "cell_type": "code",
      "metadata": {
        "id": "0GfFpyRbGPJR"
      },
      "source": [
        "import cv2\n",
        "import matplotlib.pyplot as plt\n",
        "from sklearn.metrics import accuracy_score\n",
        "from keras.datasets import mnist\n",
        "import numpy as np\n",
        "from sklearn.neighbors import KNeighborsClassifier\n",
        "from sklearn.model_selection import train_test_split"
      ],
      "execution_count": 20,
      "outputs": []
    },
    {
      "cell_type": "code",
      "metadata": {
        "id": "1x59ReuFJ0VW"
      },
      "source": [
        "(x_training, y_training), (x_test, y_test) = mnist.load_data()"
      ],
      "execution_count": 21,
      "outputs": []
    },
    {
      "cell_type": "code",
      "metadata": {
        "id": "tuAL_dQJGfGV"
      },
      "source": [
        "def convert_to_binary(photo, lower, upper):\n",
        "  photo=(lower < photo) & (photo < upper)\n",
        "  return photo"
      ],
      "execution_count": 22,
      "outputs": []
    },
    {
      "cell_type": "code",
      "metadata": {
        "id": "sA3JhwSQGijI"
      },
      "source": [
        "def calculate_centriods(photo) :\n",
        "  windowsize_r = 3\n",
        "  windowsize_c = 3\n",
        "  centroids=[]\n",
        "  binary_image= 1*convert_to_binary(photo,127,255)\n",
        "  for row in  range(0,photo.shape[0]-windowsize_r,windowsize_r) :\n",
        "    for col in range(0,photo.shape[1]-windowsize_c,windowsize_c) :\n",
        "      filter= binary_image[row:row+windowsize_r , col:col+windowsize_c]\n",
        "      x_center, y_center = np.argwhere(filter==1).sum(0)/np.count_nonzero(filter)\n",
        "      centroids.append(x_center)\n",
        "      centroids.append(y_center)\n",
        "  centroids=np.nan_to_num(centroids)\n",
        "  return centroids\n"
      ],
      "execution_count": 23,
      "outputs": []
    },
    {
      "cell_type": "code",
      "metadata": {
        "colab": {
          "base_uri": "https://localhost:8080/"
        },
        "id": "_7D38G5W4tFg",
        "outputId": "f98eed13-01c6-448c-9f44-d0beebc60993"
      },
      "source": [
        "final_training=[]\n",
        "for img in x_training :\n",
        "  centroid=calculate_centriods(img)\n",
        "  final_training.append(centroid)"
      ],
      "execution_count": 24,
      "outputs": [
        {
          "output_type": "stream",
          "text": [
            "/usr/local/lib/python3.7/dist-packages/ipykernel_launcher.py:9: RuntimeWarning: invalid value encountered in true_divide\n",
            "  if __name__ == '__main__':\n"
          ],
          "name": "stderr"
        }
      ]
    },
    {
      "cell_type": "code",
      "metadata": {
        "colab": {
          "base_uri": "https://localhost:8080/"
        },
        "id": "Qthuz3Ck4zwP",
        "outputId": "2d223861-69ed-4a0a-d66c-6b03a6211b8f"
      },
      "source": [
        "final_test=[]\n",
        "for img in x_test :\n",
        "  centroid=calculate_centriods(img)\n",
        "  final_test.append(centroid)"
      ],
      "execution_count": 25,
      "outputs": [
        {
          "output_type": "stream",
          "text": [
            "/usr/local/lib/python3.7/dist-packages/ipykernel_launcher.py:9: RuntimeWarning: invalid value encountered in true_divide\n",
            "  if __name__ == '__main__':\n"
          ],
          "name": "stderr"
        }
      ]
    },
    {
      "cell_type": "code",
      "metadata": {
        "colab": {
          "base_uri": "https://localhost:8080/"
        },
        "id": "vEjZ1vET43lz",
        "outputId": "117a71d1-1a62-46f3-9840-4631232f7528"
      },
      "source": [
        "classifier = KNeighborsClassifier(n_neighbors=5)\n",
        "classifier.fit(final_training, y_training)"
      ],
      "execution_count": 26,
      "outputs": [
        {
          "output_type": "execute_result",
          "data": {
            "text/plain": [
              "KNeighborsClassifier(algorithm='auto', leaf_size=30, metric='minkowski',\n",
              "                     metric_params=None, n_jobs=None, n_neighbors=5, p=2,\n",
              "                     weights='uniform')"
            ]
          },
          "metadata": {
            "tags": []
          },
          "execution_count": 26
        }
      ]
    },
    {
      "cell_type": "code",
      "metadata": {
        "id": "iUo23IKI45oI"
      },
      "source": [
        "y_pred = classifier.predict(final_test)"
      ],
      "execution_count": 27,
      "outputs": []
    },
    {
      "cell_type": "code",
      "metadata": {
        "colab": {
          "base_uri": "https://localhost:8080/"
        },
        "id": "vcE1XnIm4795",
        "outputId": "cf58171e-3820-42bc-8855-5aa503bb91c2"
      },
      "source": [
        "print(accuracy_score(y_test, y_pred))"
      ],
      "execution_count": 28,
      "outputs": [
        {
          "output_type": "stream",
          "text": [
            "0.9191\n"
          ],
          "name": "stdout"
        }
      ]
    }
  ]
}
